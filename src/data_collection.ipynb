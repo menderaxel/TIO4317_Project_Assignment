{
 "cells": [
  {
   "cell_type": "code",
   "execution_count": null,
   "metadata": {},
   "outputs": [],
   "source": [
    "import pandas as pd\n",
    "import numpy as np\n",
    "import yfinance as yf "
   ]
  },
  {
   "cell_type": "code",
   "execution_count": null,
   "metadata": {},
   "outputs": [],
   "source": [
    "# Load Bitcoin data from Yahoo Finance\n",
    "btc_usd_ticker = 'BTC-USD'\n",
    "eth_usd_ticker = 'ETH-USD'\n",
    "sp500_ticker = '^GSPC'\n",
    "vix_ticker = '^VIX'\n",
    "gold_ticker = 'GC=F'\n",
    "# Load data from Yahoo Finance\n",
    "btc_data = yf.download(btc_usd_ticker, start=\"2010-01-01\", end=\"2025-01-01\")\n",
    "eth_data = yf.download(eth_usd_ticker, start=\"2010-01-01\", end=\"2025-01-01\")\n",
    "sp500_data = yf.download(sp500_ticker, start=\"2010-01-01\", end=\"2025-01-01\")\n",
    "vix_data = yf.download(vix_ticker, start=\"2010-01-01\", end=\"2025-01-01\")\n",
    "gold_data = yf.download(gold_ticker, start=\"2010-01-01\", end=\"2025-01-01\")\n"
   ]
  },
  {
   "cell_type": "code",
   "execution_count": null,
   "metadata": {},
   "outputs": [],
   "source": [
    "# Remove the ticker level from the columns\n",
    "btc_data.columns = btc_data.columns.droplevel(1)\n",
    "eth_data.columns = eth_data.columns.droplevel(1)\n",
    "sp500_data.columns = sp500_data.columns.droplevel(1)\n",
    "vix_data.columns = vix_data.columns.droplevel(1)\n",
    "gold_data.columns = gold_data.columns.droplevel(1)"
   ]
  },
  {
   "cell_type": "code",
   "execution_count": null,
   "metadata": {},
   "outputs": [],
   "source": [
    "btc_df = pd.DataFrame(btc_data)\n",
    "eth_df = pd.DataFrame(eth_data)\n",
    "sp500_df = pd.DataFrame(sp500_data)\n",
    "vix_df = pd.DataFrame(vix_data)\n",
    "gold_df = pd.DataFrame(gold_data)"
   ]
  },
  {
   "cell_type": "code",
   "execution_count": null,
   "metadata": {},
   "outputs": [],
   "source": [
    "btc_df"
   ]
  },
  {
   "cell_type": "code",
   "execution_count": null,
   "metadata": {},
   "outputs": [],
   "source": [
    "eth_df"
   ]
  },
  {
   "cell_type": "code",
   "execution_count": null,
   "metadata": {},
   "outputs": [],
   "source": [
    "sp500_df"
   ]
  },
  {
   "cell_type": "code",
   "execution_count": null,
   "metadata": {},
   "outputs": [],
   "source": [
    "vix_df"
   ]
  },
  {
   "cell_type": "code",
   "execution_count": null,
   "metadata": {},
   "outputs": [],
   "source": [
    "gold_df"
   ]
  },
  {
   "cell_type": "code",
   "execution_count": null,
   "metadata": {},
   "outputs": [],
   "source": [
    "# Check for missing values\n",
    "print(btc_df.isnull().sum())\n",
    "print(eth_df.isnull().sum())\n",
    "print(sp500_df.isnull().sum())\n",
    "print(vix_df.isnull().sum())"
   ]
  },
  {
   "cell_type": "code",
   "execution_count": null,
   "metadata": {},
   "outputs": [],
   "source": [
    "btc_df['Return'] = btc_df['Close'].pct_change()\n",
    "eth_df['Return'] = eth_df['Close'].pct_change()\n",
    "sp500_df['Return'] = sp500_df['Close'].pct_change()\n",
    "vix_df['Return'] = vix_df['Close'].pct_change()\n",
    "gold_df['Return'] = gold_df['Close'].pct_change() "
   ]
  },
  {
   "cell_type": "code",
   "execution_count": null,
   "metadata": {},
   "outputs": [],
   "source": [
    "btc_df.dropna(subset=['Return'], inplace=True)\n",
    "eth_df.dropna(subset=['Return'], inplace=True)\n",
    "sp500_df.dropna(subset=['Return'], inplace=True)\n",
    "vix_df.dropna(subset=['Return'], inplace=True)\n",
    "gold_df.dropna(subset=['Return'], inplace=True)"
   ]
  },
  {
   "cell_type": "code",
   "execution_count": null,
   "metadata": {},
   "outputs": [],
   "source": [
    "# Save to file\n",
    "btc_df.to_csv('../data/btc_data.csv', index=False)\n",
    "eth_df.to_csv('../data/eth_data.csv', index=False)\n",
    "sp500_df.to_csv('../data/sp500_data.csv', index=False)\n",
    "vix_df.to_csv('../data/vix_data.csv', index=False)\n",
    "gold_df.to_csv('../data/gold_data.csv', index=False)"
   ]
  }
 ],
 "metadata": {
  "kernelspec": {
   "display_name": "myenv",
   "language": "python",
   "name": "python3"
  },
  "language_info": {
   "codemirror_mode": {
    "name": "ipython",
    "version": 3
   },
   "file_extension": ".py",
   "mimetype": "text/x-python",
   "name": "python",
   "nbconvert_exporter": "python",
   "pygments_lexer": "ipython3",
   "version": "3.11.8"
  }
 },
 "nbformat": 4,
 "nbformat_minor": 2
}
