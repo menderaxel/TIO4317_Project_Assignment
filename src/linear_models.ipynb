{
 "cells": [
  {
   "cell_type": "markdown",
   "metadata": {},
   "source": [
    "This research question relates to the time-series section of TIØ4317 by analyzing financial time series data\n",
    "for the different securities. \n",
    "\n",
    "By comparing the fluctuations of cryptocurrencies with the S&P 500, VIX,\n",
    "and gold, you can apply time-series techniques to identify patterns, correlations, and potential predictive\n",
    "relationships among these assets. \n",
    "\n",
    "This analysis can provide insights into the volatility and co-movement\n",
    "of different financial instruments, which is a key aspect of empirical finance and time-series analysis."
   ]
  },
  {
   "cell_type": "markdown",
   "metadata": {},
   "source": [
    "Task 2: Application of linear models (both univariate and multivariate), ARIMA, and Prophet for price\n",
    "forecasting and relationship analysis."
   ]
  },
  {
   "cell_type": "code",
   "execution_count": 32,
   "metadata": {},
   "outputs": [],
   "source": [
    "import pandas as pd\n",
    "import numpy as np\n",
    "import matplotlib.pyplot as plt\n",
    "from statsmodels.graphics.tsaplots import plot_acf, plot_pacf\n",
    "from statsmodels.tsa.stattools import adfuller\n",
    "from statsmodels.tsa.arima.model import ARIMA\n",
    "import os"
   ]
  },
  {
   "cell_type": "code",
   "execution_count": 14,
   "metadata": {},
   "outputs": [],
   "source": [
    "# Load in datasets\n",
    "df_btc = pd.read_csv('../data/btc_data.csv')\n",
    "df_eth = pd.read_csv('../data/eth_data.csv')\n",
    "df_sp500 = pd.read_csv('../data/sp500_data.csv')\n",
    "df_vix = pd.read_csv('../data/vix_data.csv')\n",
    "df_gold = pd.read_csv('../data/gold_data.csv')"
   ]
  },
  {
   "cell_type": "code",
   "execution_count": 18,
   "metadata": {},
   "outputs": [],
   "source": [
    "for df in [df_btc, df_eth, df_sp500, df_vix, df_gold]:\n",
    "    df['Date'] = pd.to_datetime(df['Date'])\n",
    "    df.set_index('Date', inplace=True)"
   ]
  },
  {
   "cell_type": "markdown",
   "metadata": {},
   "source": [
    "## Stationarity Tests"
   ]
  },
  {
   "cell_type": "code",
   "execution_count": null,
   "metadata": {},
   "outputs": [
    {
     "name": "stdout",
     "output_type": "stream",
     "text": [
      "ADF Test for BTC:\n",
      "ADF Statistic: -62.56398099915729\n",
      "p-value: 0.0\n",
      "Stationary (reject H0)\n",
      "\n",
      "ADF Test for ETH:\n",
      "ADF Statistic: -15.345802207609772\n",
      "p-value: 3.777552147246975e-28\n",
      "Stationary (reject H0)\n",
      "\n"
     ]
    }
   ],
   "source": [
    "def adf_test(series, name=''):\n",
    "    result = adfuller(series.dropna())\n",
    "    print(f'ADF Test for {name}:')\n",
    "    print(f'ADF Statistic: {result[0]}')\n",
    "    print(f'p-value: {result[1]}')\n",
    "    if result[1] <= 0.05:\n",
    "        print(\"Stationary (reject H0)\\n\")\n",
    "    else:\n",
    "        print(\"Non-stationary (fail to reject H0)\\n\")\n",
    "\n",
    "adf_test(df_btc['Return'], 'BTC')\n",
    "adf_test(df_eth['Return'], 'ETH')"
   ]
  },
  {
   "cell_type": "markdown",
   "metadata": {},
   "source": [
    "Both BTC and ETH time series are stationary, and hence do not need further adjustments"
   ]
  },
  {
   "cell_type": "markdown",
   "metadata": {},
   "source": [
    "## Univariate"
   ]
  },
  {
   "cell_type": "markdown",
   "metadata": {},
   "source": [
    "## ACF and PACF"
   ]
  },
  {
   "cell_type": "code",
   "execution_count": 31,
   "metadata": {},
   "outputs": [
    {
     "data": {
      "image/png": "[encoded data removed]",
      "text/plain": [
       "<Figure size 1200x400 with 4 Axes>"
      ]
     },
     "metadata": {},
     "output_type": "display_data"
    }
   ],
   "source": [
    "fig, ax = plt.subplots(2, 2, figsize=(12, 4))  # 2 rows, 2 columns\n",
    "\n",
    "# BTC\n",
    "plot_acf(df_btc['Return'].dropna(), ax=ax[0, 0], lags=30)\n",
    "ax[0, 0].set_title('ACF - BTC Returns')\n",
    "plot_pacf(df_btc['Return'].dropna(), ax=ax[1, 0], lags=30, method='ywm')\n",
    "ax[1, 0].set_title('PACF - BTC Returns')\n",
    "\n",
    "# ETH\n",
    "plot_acf(df_eth['Return'].dropna(), ax=ax[0, 1], lags=30)\n",
    "ax[0, 1].set_title('ACF - ETH Returns')\n",
    "plot_pacf(df_eth['Return'].dropna(), ax=ax[1, 1], lags=30, method='ywm')\n",
    "ax[1, 1].set_title('PACF - ETH Returns')\n",
    "\n",
    "plt.tight_layout()\n",
    "plt.show()\n"
   ]
  },
  {
   "cell_type": "markdown",
   "metadata": {},
   "source": [
    "As we can witness, the ACF and PACF tests show that the p and q values for the ARIMA models should be 0 or maximum 1. "
   ]
  },
  {
   "cell_type": "markdown",
   "metadata": {},
   "source": [
    "## AIC"
   ]
  },
  {
   "cell_type": "code",
   "execution_count": null,
   "metadata": {},
   "outputs": [],
   "source": [
    "import warnings\n",
    "warnings.filterwarnings(\"ignore\")  # Hide convergence warnings\n",
    "\n",
    "aic_results = []\n",
    "\n",
    "# Try values from 0 to 4 for p and q (adjust as needed)\n",
    "for p in range(5):\n",
    "    for q in range(5):\n",
    "        try:\n",
    "            model = ARIMA(df_btc['Return'].dropna(), order=(p, 0, q))  # d=0 for returns\n",
    "            result = model.fit()\n",
    "            aic_results.append({\n",
    "                'p': p,\n",
    "                'q': q,\n",
    "                'AIC': result.aic\n",
    "            })\n",
    "        except:\n",
    "            continue\n",
    "\n",
    "# Convert to DataFrame and sort\n",
    "aic_df = pd.DataFrame(aic_results).sort_values('AIC')\n",
    "print(aic_df.head(10))  # Show top 10 models\n"
   ]
  }
 ],
 "metadata": {
  "kernelspec": {
   "display_name": "myenv",
   "language": "python",
   "name": "python3"
  },
  "language_info": {
   "codemirror_mode": {
    "name": "ipython",
    "version": 3
   },
   "file_extension": ".py",
   "mimetype": "text/x-python",
   "name": "python",
   "nbconvert_exporter": "python",
   "pygments_lexer": "ipython3",
   "version": "3.11.8"
  }
 },
 "nbformat": 4,
 "nbformat_minor": 2
}
